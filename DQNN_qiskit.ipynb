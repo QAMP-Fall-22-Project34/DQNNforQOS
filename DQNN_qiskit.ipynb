{
 "cells": [
  {
   "cell_type": "markdown",
   "metadata": {},
   "source": [
    "# Training DQNN with Qiskit\n",
    "\n",
    "## Introduction\n",
    "This tutorial is based on the paper [Training deep quantum neural networks](https://www.nature.com/articles/s41467-020-14454-2). We implement the DQNN model proposed in the paper with `qiskit` library.\n",
    "\n",
    "## Used libraries"
   ]
  },
  {
   "cell_type": "code",
   "execution_count": 1,
   "metadata": {},
   "outputs": [],
   "source": [
    "import numpy as np\n",
    "from qiskit.quantum_info import random_unitary, random_density_matrix, random_statevector\n",
    "from qiskit.quantum_info import DensityMatrix, Statevector, partial_trace, state_fidelity\n",
    "from qiskit.quantum_info.states.quantum_state import QuantumState, Operator\n",
    "from qiskit.opflow import X, Y, Z, Zero, I, commutator\n",
    "from qiskit.extensions import UnitaryGate\n",
    "\n",
    "from qiskit.algorithms.optimizers import SPSA, ADAM\n",
    "\n",
    "from tqdm import trange\n",
    "from torch.utils.tensorboard import SummaryWriter"
   ]
  },
  {
   "cell_type": "markdown",
   "metadata": {},
   "source": [
    "## Opflow-DQNN model class\n",
    "\n",
    "This is the model that utilzes `qiskit.quantum_info` module for calculations, which is essential same as [this implimentation](https://github.com/qigitphannover/DeepQuantumNeuralNetworks/blob/master/DQNN_basic.ipynb). Unitraries update rule (backprob) in the [paper](https://www.nature.com/articles/s41467-020-14454-2) has not been implemented. Family of Gradient descent algorithms such as ADAM or SPSA can be used instead."
   ]
  },
  {
   "cell_type": "code",
   "execution_count": 2,
   "metadata": {},
   "outputs": [],
   "source": [
    "from typing import Union, List\n",
    "from collections import deque\n",
    "from copy import deepcopy\n",
    "\n",
    "from qiskit.extensions import HamiltonianGate\n",
    "from scipy.linalg import eig, expm\n",
    "\n",
    "class OpflowDQNN(object):\n",
    "\n",
    "    def __init__(self, qnnArch:List[int], epsilon:float=0.1, lamda:float=1):\n",
    "        \"\"\" Deep Quantum Neural Network \n",
    "        Args:\n",
    "            qnnArch: list of integers representing the architecture of the DQNN. e.g. [2, 3, 2] represents 2q input, 3q hidden, 2q output\n",
    "        \"\"\"\n",
    "        self.qnnArch = qnnArch\n",
    "        self.epsilon = epsilon\n",
    "        self.lamda = lamda\n",
    "\n",
    "    def makeRandomUnitaries(self, seed:int=None): # TODO: seed does nothing yet\n",
    "        \"\"\" Randomly initialize the unitaries of the DQNN\n",
    "        Args:\n",
    "            seed: random seed\n",
    "        \"\"\"\n",
    "        unitaries = []\n",
    "        for l in range(len(self.qnnArch)-1):\n",
    "            unitaries.append(\n",
    "                np.empty(\n",
    "                    shape=(self.qnnArch[l+1], 2**(self.qnnArch[l]+1), 2**(self.qnnArch[l]+1)), \n",
    "                    dtype=np.complex128\n",
    "                )\n",
    "            )\n",
    "            for j in range(self.qnnArch[l+1]):\n",
    "                unitaries[l][j, : :] = random_unitary(2**(self.qnnArch[l]+1), seed=None).data\n",
    "        return unitaries\n",
    "\n",
    "    def applyLayerChannel(self, unitaries:List[np.ndarray], l:int, inputState:DensityMatrix):\n",
    "        numInputQubits = self.qnnArch[l]\n",
    "        numOutputQubits = self.qnnArch[l+1]\n",
    "        inputWires = list(range(numInputQubits))\n",
    "        outputWires = list(range(numInputQubits, numInputQubits+numOutputQubits))\n",
    "        layerUnitaries = unitaries[l]\n",
    "        # inputState = DensityMatrix(inputState)\n",
    "        inputState = inputState.expand(DensityMatrix.from_int(0, dims=2**numOutputQubits))\n",
    "        # apply layer unitaries\n",
    "        for j in range(numOutputQubits):\n",
    "            assert Operator(layerUnitaries[j, :, :]).is_unitary(), f\"`unitaries[{l}][{j}, :, :]` is not unitary\"\n",
    "            inputState = inputState.evolve(Operator(layerUnitaries[j, : , :]), qargs=inputWires+[outputWires[j]])\n",
    "        return partial_trace(inputState, qargs = inputWires)\n",
    "\n",
    "    def applyAdjointLayerChannel(self, unitaries:List[np.ndarray], l:int, outputState:DensityMatrix):\n",
    "        numInputQubits = self.qnnArch[l]\n",
    "        numOutputQubits = self.qnnArch[l+1]\n",
    "        inputWires = list(range(numInputQubits))\n",
    "        outputWires = list(range(numInputQubits, numInputQubits+numOutputQubits))\n",
    "        layerUnitaries = unitaries[l]\n",
    "        # outputState = DensityMatrix(outputState)\n",
    "        outputState = DensityMatrix(np.eye(2**numInputQubits)).expand(outputState)\n",
    "        projOp = Operator(np.eye(2**numInputQubits)).expand(DensityMatrix.from_int(0, dims=2**numOutputQubits).to_operator())\n",
    "        # apply adjoing layer unitaries\n",
    "        for j in range(numOutputQubits-1, -1, -1):\n",
    "            assert Operator(layerUnitaries[j, :, :]).is_unitary(), f\"`unitaries[{l}][{j}, :, :]` is not unitary\"\n",
    "            outputState = outputState.evolve(Operator(layerUnitaries[j, :, :]).adjoint(), qargs=inputWires+[outputWires[j]])\n",
    "        return partial_trace(DensityMatrix(projOp @ outputState.to_operator()), outputWires)\n",
    "\n",
    "    def feedforward(self, unitaries:List[np.ndarray], inputs:List[Union[Statevector, DensityMatrix, np.ndarray]]):\n",
    "        \"\"\" Forward pass of the DQNN\n",
    "        Args:\n",
    "            unitaries: list of unitary parameters per layer\n",
    "            inputs: array of input states of shape (batch_size, input_dim, input_dim) or (batch_size, input_dim)\n",
    "\n",
    "        Returns: \n",
    "            outputs: deque of \"array of layer states of shape (batch_size, output_dim, output_dim)\" per layer\n",
    "        \"\"\"\n",
    "        forward_process = []\n",
    "        for quantum_state in inputs:\n",
    "            layer_output = deque()\n",
    "            quantum_state = DensityMatrix(quantum_state)\n",
    "            layer_output.append(quantum_state)\n",
    "            for l in range(len(self.qnnArch)-1):\n",
    "                quantum_state = self.applyLayerChannel(unitaries, l, quantum_state)\n",
    "                layer_output.append(quantum_state)\n",
    "            forward_process.append(layer_output)\n",
    "\n",
    "        layer_outputs = []\n",
    "        for l in range(len(self.qnnArch)):\n",
    "            layer_outputs.append(np.stack([forward_process[x][l] for x in range(len(inputs))]))\n",
    "        return layer_outputs\n",
    "\n",
    "    def backpropagation(self, unitaries:List[np.ndarray], targets:List[Union[Statevector, DensityMatrix, np.ndarray]]):\n",
    "        \"\"\" Backward pass of the DQNN\n",
    "        Args:\n",
    "            unitaries: list of unitary parameters per layer\n",
    "            targets: array of target states of shape (batch_size, output_dim, output_dim) or (batch_size, output_dim)\n",
    "\n",
    "        Returns: \n",
    "            outputs: deque of \"array of layer states of shape (batch_size, input_dim, input_dim)\" per layer\n",
    "        \"\"\"\n",
    "        backward_process = []\n",
    "        for povm_measurement in targets:\n",
    "            layer_output = deque()\n",
    "            povm_measurement = DensityMatrix(povm_measurement)\n",
    "            layer_output.appendleft(povm_measurement)\n",
    "            for l in range(len(self.qnnArch)-2, -1, -1):\n",
    "                povm_measurement = self.applyAdjointLayerChannel(unitaries, l, povm_measurement)\n",
    "                layer_output.appendleft(povm_measurement)\n",
    "            backward_process.append(layer_output)\n",
    "\n",
    "        layer_outputs = []\n",
    "        for l in range(len(self.qnnArch)):\n",
    "            layer_outputs.append(np.stack([backward_process[x][l] for x in range(len(targets))]))\n",
    "        return layer_outputs\n",
    "\n",
    "    def step(self, unitaries:List[np.ndarray], inputs:List[Union[Statevector, DensityMatrix, np.ndarray]], targets:List[Union[Statevector, DensityMatrix, np.ndarray]]):\n",
    "        \"\"\" Perform a single step of the DQNN\n",
    "        Args:\n",
    "            unitaries: list of unitary parameters per layer\n",
    "            inputs: array of input states of shape (batch_size, input_dim, input_dim) or (batch_size, input_dim)\n",
    "            targets: array of target states of shape (batch_size, output_dim, output_dim) or (batch_size, output_dim)\n",
    "\n",
    "        Returns: \n",
    "            outputstate: array of output states of shape (batch_size, output_dim, output_dim) or (batch_size, output_dim)\n",
    "        Note:\n",
    "            This update is only suitable for state fidelity cost function\n",
    "        \"\"\"\n",
    "        # feedforward & backpropagation\n",
    "        feedforward_results = self.feedforward(unitaries, inputs)\n",
    "        backpropagation_results = self.backpropagation(unitaries, targets)\n",
    "        measout = []\n",
    "        for instate, outstate in zip(feedforward_results, backpropagation_results):\n",
    "            measout_x = []\n",
    "            for ins, outs in zip(instate, outstate):\n",
    "                measout_x.append(np.trace(ins @ outs))\n",
    "            measout.append(measout_x)\n",
    "        measout = np.stack(measout)\n",
    "        for x in range(feedforward_results[0].shape[0]):\n",
    "            assert np.allclose(measout[:, x], np.mean(measout[:, x])), \"Adjoint channel is incorrect\"\n",
    "\n",
    "        for l in range(len(self.qnnArch)-1):\n",
    "            xTrMmatrices = []\n",
    "            numInputQubits = self.qnnArch[l]\n",
    "            numOutputQubits = self.qnnArch[l+1]\n",
    "            inputWires = list(range(numInputQubits))\n",
    "            outputWires = list(range(numInputQubits, numInputQubits+numOutputQubits))\n",
    "            layerUnitaries = unitaries[l]\n",
    "            layerInputStates = feedforward_results[l]\n",
    "            layerOutputStates = backpropagation_results[l+1]\n",
    "            # make update matrices\n",
    "            for x, (layerInputState, layerOutputState) in enumerate(zip(layerInputStates, layerOutputStates)):\n",
    "                Amatrices = deque()\n",
    "                Bmatrices = deque()\n",
    "                TrMmatrices = list()\n",
    "                astate = DensityMatrix(layerInputState).expand(DensityMatrix.from_int(0, dims=2**numOutputQubits))\n",
    "                bstate = DensityMatrix(np.eye(2**numInputQubits)).expand(DensityMatrix(layerOutputState))\n",
    "                for j in range(numOutputQubits):\n",
    "                    astate = astate.evolve(layerUnitaries[j, :, :], qargs=inputWires+[outputWires[j]])\n",
    "                    Amatrices.append(astate.data)\n",
    "                for j in range(numOutputQubits-1, -1, -1):\n",
    "                    Bmatrices.appendleft(bstate.data)\n",
    "                    if j != 0:\n",
    "                        bstate = bstate.evolve(Operator(layerUnitaries[j, :, :]).adjoint(), qargs=inputWires+[outputWires[j]])\n",
    "                for j in range(numOutputQubits):\n",
    "                    assert np.isclose(np.trace(Amatrices[j] @ Bmatrices[j]) , np.mean(measout[:, x])), \"A or B matrix is incorrect\"\n",
    "                    TrMmatrices.append(partial_trace(self._commutator(Amatrices[j], Bmatrices[j]), qargs=outputWires[:j]+outputWires[j+1:]).data)\n",
    "                    assert TrMmatrices[j].shape == layerUnitaries[j].shape, f\"TrM matrix is incorrect ({TrMmatrices[-1].shape} != {layerUnitaries.shape})\"\n",
    "                xTrMmatrices.append(TrMmatrices)\n",
    "            xTrMmatrices = np.stack(xTrMmatrices)\n",
    "            Kmatrices = 1j * (2**numInputQubits) / self.lamda * xTrMmatrices.mean(axis=0)\n",
    "            assert len(xTrMmatrices)==len(targets)\n",
    "            # replace unitaries\n",
    "            for j in range(numOutputQubits):\n",
    "                assert Operator(Kmatrices[j]) == Operator(Kmatrices[j]).adjoint()\n",
    "                unitaries[l][j, :, :] = np.matmul(expm(1j*self.epsilon*Kmatrices[j]), unitaries[l][j, :, :])\n",
    "                assert Operator(unitaries[l][j, :, :]).is_unitary()\n",
    "        return self.cost(feedforward_results[-1], targets)\n",
    "\n",
    "    @staticmethod\n",
    "    def cost(outputs:np.ndarray, targets:np.ndarray):\n",
    "        \"\"\" Calculate the cost of the DQNN\n",
    "        Args:\n",
    "            outputs: array of output states of shape (batch_size, output_dim, output_dim) or (batch_size, output_dim)\n",
    "            targets: array of target states of shape (batch_size, output_dim, output_dim) or (batch_size, output_dim)\n",
    "\n",
    "        Returns: \n",
    "            cost: float\n",
    "        \"\"\"\n",
    "        assert len(outputs) == len(targets)\n",
    "        cost = 0\n",
    "        for output, target in zip(outputs, targets):\n",
    "            cost += state_fidelity(DensityMatrix(output), DensityMatrix(target))\n",
    "        return cost/len(targets)\n",
    "\n",
    "    @staticmethod\n",
    "    def _commutator(A, B):\n",
    "        assert A.shape == B.shape\n",
    "        assert len(A.shape) == 2\n",
    "        return np.matmul(A, B) - np.matmul(B, A)\n",
    "\n",
    "\n",
    "    def __call__(self, unitaries, inputs):\n",
    "        return self.feedforward(unitaries, inputs)[-1]"
   ]
  },
  {
   "cell_type": "code",
   "execution_count": 3,
   "metadata": {},
   "outputs": [
    {
     "data": {
      "text/plain": [
       "array([[False, False, False],\n",
       "       [False, False, False],\n",
       "       [False, False, False]])"
      ]
     },
     "execution_count": 3,
     "metadata": {},
     "output_type": "execute_result"
    }
   ],
   "source": [
    "A = np.random.random((3, 3)) + 1j * np.random.random((3, 3))\n",
    "A = A + A.T.conj()\n",
    "w, v = np.linalg.eig(A)\n",
    "v.conj().T @ np.diag(w) @ v == A"
   ]
  },
  {
   "cell_type": "code",
   "execution_count": 4,
   "metadata": {},
   "outputs": [
    {
     "data": {
      "text/plain": [
       "(1.2878587085651816e-14+1.549205837814428e-17j)"
      ]
     },
     "execution_count": 4,
     "metadata": {},
     "output_type": "execute_result"
    }
   ],
   "source": [
    "np.sum(v @ np.diag(w) @ v.conj().T - A, axis=None)"
   ]
  },
  {
   "cell_type": "code",
   "execution_count": 5,
   "metadata": {},
   "outputs": [
    {
     "data": {
      "text/plain": [
       "array([[ 1.00000000e+00-1.10366029e-17j,  3.05311332e-16+6.93889390e-17j,\n",
       "        -6.38378239e-16-1.11022302e-16j],\n",
       "       [ 3.05311332e-16-1.38777878e-16j,  1.00000000e+00-1.26810139e-17j,\n",
       "         2.77555756e-16-1.66533454e-16j],\n",
       "       [-6.38378239e-16+1.11022302e-16j,  2.77555756e-16+2.22044605e-16j,\n",
       "         1.00000000e+00+6.30441488e-18j]])"
      ]
     },
     "execution_count": 5,
     "metadata": {},
     "output_type": "execute_result"
    }
   ],
   "source": [
    "U = v @ np.diag(np.exp(1j * w)) @ v.conj().T\n",
    "U @ U.conj().T"
   ]
  },
  {
   "cell_type": "code",
   "execution_count": 6,
   "metadata": {},
   "outputs": [
    {
     "data": {
      "text/plain": [
       "True"
      ]
     },
     "execution_count": 6,
     "metadata": {},
     "output_type": "execute_result"
    }
   ],
   "source": [
    "Operator(A)==Operator(A).adjoint()"
   ]
  },
  {
   "cell_type": "markdown",
   "metadata": {},
   "source": [
    "## Data preparation & Cost functions\n",
    "\n",
    "Training data $\\vert \\psi_{in} \\rangle$ is sampled from Haar measure using `qiskit.quantum_info.random_statevector`. The type of training data is therefore `qiskit.quantum_info.Statevector`. The target data $\\vert \\psi_{out} \\rangle$ is generated with arbitrary $V$, s.t. $\\vert \\psi_{out} \\rangle=V\\vert \\psi_{in} \\rangle$. However, to match with the DQNN forward output, the type of target data is `torch.tensor`. The cost function is defined as the average fidelity between the output state $\\vert \\psi_{out} \\rangle$ and the model output $\\rho_{out}$: $C = \\frac{1}{N}\\sum_{i=1}^{N} \\langle \\psi_{out}^{(i)} \\vert \\rho_{out}^{(i)} \\vert \\psi_{out}^{(i)} \\rangle$."
   ]
  },
  {
   "cell_type": "code",
   "execution_count": 7,
   "metadata": {},
   "outputs": [],
   "source": [
    "def generate_random_training_data(numSamples:int, numInputQubits:int):\n",
    "    \"\"\" Generate random training data \n",
    "    Args:\n",
    "        numSamples: number of samples to generate\n",
    "        numInputQubits: number of input qubits\n",
    "    Returns:\n",
    "        trainingData: array of input states of shape (batch_size, 2**numInputQubits)\n",
    "    \"\"\"\n",
    "    trainingData = np.empty(shape=(numSamples, 2**numInputQubits), dtype=np.complex128)\n",
    "    for i in range(numSamples):\n",
    "        trainingData[i, :] = random_statevector(2**numInputQubits, seed=None).data # TODO: seed\n",
    "    return trainingData\n",
    "\n",
    "def generate_target_from_unitary(channel:Operator, trainingData:list):\n",
    "    \"\"\" Generate target states from a channel\n",
    "    Args:\n",
    "        channel: quantum channel or unitary to apply to the training data\n",
    "        trainingData: list of input states\n",
    "    Returns:\n",
    "        targets: array of target states of shape (batch_size, output_dim) or (batch_size, output_dim, output_dim)\n",
    "    \"\"\"\n",
    "    targetStates = []\n",
    "    for inputState in trainingData:\n",
    "        inputState = Statevector(inputState)\n",
    "        targetStates.append(\n",
    "            inputState.evolve(channel).data\n",
    "        )\n",
    "    targetStates = np.stack(targetStates)\n",
    "    return targetStates\n",
    "\n",
    "def cost(outputs, targets):\n",
    "    assert len(outputs) == len(targets), \"output and target must have the same length\"\n",
    "    loss = 0\n",
    "    for output, target in zip(outputs, targets):\n",
    "        loss += state_fidelity(output, target)\n",
    "    return loss/len(outputs)"
   ]
  },
  {
   "cell_type": "code",
   "execution_count": 8,
   "metadata": {},
   "outputs": [
    {
     "name": "stderr",
     "output_type": "stream",
     "text": [
      "100%|██████████| 1000/1000 [02:12<00:00,  7.52it/s]\n"
     ]
    }
   ],
   "source": [
    "unitary = random_unitary(2**2)\n",
    "model = OpflowDQNN([2, 3, 2], epsilon=0.1, lamda=10)\n",
    "unitaries = model.makeRandomUnitaries()\n",
    "trainingData = generate_random_training_data(10, 2)\n",
    "targetStates = generate_target_from_unitary(unitary, trainingData)\n",
    "\n",
    "loss_list = []\n",
    "writer = SummaryWriter(log_dir='./runs/DQNN')\n",
    "for s in trange(100):\n",
    "    loss = model.step(unitaries, trainingData, targetStates)\n",
    "    writer.add_scalar('Loss', loss, s)\n",
    "    loss_list.append(loss)"
   ]
  },
  {
   "cell_type": "code",
   "execution_count": 9,
   "metadata": {},
   "outputs": [
    {
     "data": {
      "text/plain": [
       "[<matplotlib.lines.Line2D at 0x7fade405a850>]"
      ]
     },
     "execution_count": 9,
     "metadata": {},
     "output_type": "execute_result"
    },
    {
     "data": {
      "image/png": "[encoded data removed]",
      "text/plain": [
       "<Figure size 640x480 with 1 Axes>"
      ]
     },
     "metadata": {},
     "output_type": "display_data"
    }
   ],
   "source": [
    "import matplotlib.pyplot as plt\n",
    "plt.plot(loss_list)"
   ]
  },
  {
   "cell_type": "code",
   "execution_count": null,
   "metadata": {},
   "outputs": [],
   "source": []
  }
 ],
 "metadata": {
  "kernelspec": {
   "display_name": "Python 3.9.13 ('qamp')",
   "language": "python",
   "name": "python3"
  },
  "language_info": {
   "codemirror_mode": {
    "name": "ipython",
    "version": 3
   },
   "file_extension": ".py",
   "mimetype": "text/x-python",
   "name": "python",
   "nbconvert_exporter": "python",
   "pygments_lexer": "ipython3",
   "version": "3.9.13"
  },
  "orig_nbformat": 4,
  "vscode": {
   "interpreter": {
    "hash": "b2c9f99578d4763fad6ea324f689ecb983a0435e03f7bfb4f236675bf544ca8c"
   }
  }
 },
 "nbformat": 4,
 "nbformat_minor": 2
}
