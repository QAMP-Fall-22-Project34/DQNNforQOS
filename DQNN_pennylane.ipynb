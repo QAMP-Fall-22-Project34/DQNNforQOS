{
 "cells": [
  {
   "cell_type": "markdown",
   "metadata": {},
   "source": [
    "# Training DQNN with PennyLane\n",
    "\n",
    "## Introduction\n",
    "This tutorial is based on the paper [Training deep quantum neural networks](https://www.nature.com/articles/s41467-020-14454-2). We implement the DQNN model proposed in the paper with `PennyLane` and `PyTorch` library.\n",
    "\n",
    "## Used libraries"
   ]
  },
  {
   "cell_type": "code",
   "execution_count": 1,
   "metadata": {},
   "outputs": [],
   "source": [
    "import pennylane as qml\n",
    "import numpy as np\n",
    "from qiskit.quantum_info import random_unitary, random_density_matrix, random_statevector\n",
    "from qiskit.quantum_info import DensityMatrix, Statevector\n",
    "from qiskit.quantum_info.states.quantum_state import QuantumState, Operator\n",
    "\n",
    "import torch\n",
    "\n",
    "from tqdm import trange\n",
    "from torch.utils.tensorboard import SummaryWriter"
   ]
  },
  {
   "cell_type": "markdown",
   "metadata": {},
   "source": [
    "## DQNN model class\n",
    "\n",
    "The unitraies used for each layer is [qml.ArbitraryUnitary](https://docs.pennylane.ai/en/stable/code/api/pennylane.ArbitraryUnitary.html) which is a parametrized unitary. The number of parameters is $4^{m+n}-1$ where $m$ is the number of input qubits and $n$ is the number of output qubits. Unitraries update rule (backprob) in the [paper](https://www.nature.com/articles/s41467-020-14454-2) has not yet been implemented. Family of Gradient descent algorithms such as ADAM can be used instead."
   ]
  },
  {
   "cell_type": "code",
   "execution_count": 2,
   "metadata": {},
   "outputs": [],
   "source": [
    "class DQNN(object):\n",
    "\n",
    "    def __init__(self, qnnArch:list, device_name:str='default.mixed', interface:str='torch'):\n",
    "        \"\"\" Deep Quantum Neural Network \n",
    "        Args:\n",
    "            qnnArch: list of integers representing the architecture of the DQNN. e.g. [2, 3, 2] represents 2q input, 3q hidden, 2q output\n",
    "            device_name: name of the PennyLane device to use. Currently, only 'default.mixed' is supported\n",
    "            interface: interface to use for the PennyLane device. Currently, only 'torch' is considered\n",
    "        \"\"\"\n",
    "        self.qnnArch = qnnArch\n",
    "        self.device_name = device_name\n",
    "        self.interface = interface\n",
    "\n",
    "    def makeRandomUnitaries(self, seed:int=None): # TODO: seed does nothing yet\n",
    "        \"\"\" Randomly initialize unitary parameters \"\"\"\n",
    "        unitaries = []\n",
    "        for l in range(len(self.qnnArch)-1):\n",
    "            unitaries.append([])\n",
    "            unitaries[l] = torch.randn(self.qnnArch[l+1], 4**(self.qnnArch[l]+1)-1, requires_grad=True)\n",
    "        return unitaries\n",
    "\n",
    "    def applyLayerChannel(self, unitaries:list, l:int, inputState):\n",
    "        numInputQubits = self.qnnArch[l]\n",
    "        numOutputQubits = self.qnnArch[l+1]\n",
    "        inputWires = list(range(numInputQubits))\n",
    "        outputWires = list(range(numInputQubits, numInputQubits+numOutputQubits))\n",
    "        layerUnitaries = unitaries[l]\n",
    "        # type check\n",
    "        if isinstance(inputState, QuantumState) or len(inputState.shape) == 1:\n",
    "            inputState = torch.tensor(DensityMatrix(inputState).data, requires_grad=False)\n",
    "        for _ in outputWires:\n",
    "            inputState = torch.kron(inputState, torch.tensor([[1, 0], [0, 0]], dtype=torch.complex128))\n",
    "\n",
    "        @qml.qnode(device=qml.device(name=self.device_name, wires=numInputQubits+numOutputQubits), interface=self.interface)\n",
    "        def layerChannel(inputState):\n",
    "            qml.QubitDensityMatrix(inputState, wires=inputWires+outputWires)\n",
    "            for j in range(numOutputQubits):\n",
    "                qml.ArbitraryUnitary(weights=layerUnitaries[j], wires=inputWires+[outputWires[j]])\n",
    "            return qml.density_matrix(wires=outputWires)\n",
    "\n",
    "        return layerChannel(inputState)\n",
    "\n",
    "    def forward(self, unitaries, inputs):\n",
    "        \"\"\" Forward pass of the DQNN\n",
    "        Args:\n",
    "            unitaries: list of unitary parameters per layer\n",
    "            inputs: tensor of input states of shape (batch_size, input_dim, input_dim)\n",
    "\n",
    "        Returns: \n",
    "            outputs: tensor of output states of shape (batch_size, output_dim, output_dim)\n",
    "        \"\"\"\n",
    "        outputs = []\n",
    "        for inputState in inputs:\n",
    "            for l in range(len(self.qnnArch)-1):\n",
    "                inputState = self.applyLayerChannel(unitaries, l, inputState)\n",
    "            outputs.append(inputState)\n",
    "        return torch.stack(outputs)\n",
    "    "
   ]
  },
  {
   "cell_type": "markdown",
   "metadata": {},
   "source": [
    "## Data preparation & Cost functions\n",
    "\n",
    "Training data $\\vert \\psi_{in} \\rangle$ is sampled from Haar measure using `qiskit.quantum_info.random_statevector`. The type of training data is therefore `qiskit.quantum_info.Statevector`. The target data $\\vert \\psi_{out} \\rangle$ is generated with arbitrary $V$, s.t. $\\vert \\psi_{out} \\rangle=V\\vert \\psi_{in} \\rangle$. However, to match with the DQNN forward output, the type of target data is `torch.tensor`. The cost function is defined as the average fidelity between the output state $\\vert \\psi_{out} \\rangle$ and the model output $\\rho_{out}$: $C = \\frac{1}{N}\\sum_{i=1}^{N} \\langle \\psi_{out}^{(i)} \\vert \\rho_{out}^{(i)} \\vert \\psi_{out}^{(i)} \\rangle$."
   ]
  },
  {
   "cell_type": "code",
   "execution_count": 3,
   "metadata": {},
   "outputs": [],
   "source": [
    "def generate_random_training_data(numSamples:int, numInputQubits:int):\n",
    "    \"\"\" Generate random training data \n",
    "    Args:\n",
    "        numSamples: number of samples to generate\n",
    "        numInputQubits: number of input qubits\n",
    "    Returns:\n",
    "        trainingData: list of random input states\n",
    "    \"\"\"\n",
    "    trainingData = []\n",
    "    for i in range(numSamples):\n",
    "        trainingData.append(\n",
    "            random_statevector(2**numInputQubits, seed=None) # TODO: seed\n",
    "        )\n",
    "    return trainingData\n",
    "\n",
    "def generate_target_from_unitary(unitary:Operator, trainingData:list):\n",
    "    \"\"\" Generate target states from a unitary\n",
    "    Args:\n",
    "        unitary: unitary to apply to the training data\n",
    "        trainingData: list of input states\n",
    "    Returns:\n",
    "        targets: list of target states\n",
    "    \"\"\"\n",
    "    targetStates = []\n",
    "    for inputState in trainingData:\n",
    "        targetStates.append(\n",
    "            inputState.evolve(unitary).data\n",
    "        )\n",
    "    targetStates = np.array(targetStates)\n",
    "    return torch.tensor(targetStates, requires_grad=False)\n",
    "\n",
    "def cost(outputs, targets):\n",
    "    \"\"\" Cost function to maximize\n",
    "    Args:\n",
    "        outputs: output states of the DQNN of shape (batch_size, output_dim, output_dim)\n",
    "        targets: target states of shape (batch_size, output_dim)\n",
    "    Returns:\n",
    "        loss: average fidelity between output and target states\n",
    "    \"\"\"\n",
    "    assert len(outputs) == len(targets), \"outputs and targets must have the same length\"\n",
    "    loss = 0\n",
    "    for output, target in zip(outputs, targets):\n",
    "        loss += torch.real(torch.vdot(target, output @ target))\n",
    "    return loss/len(outputs)"
   ]
  },
  {
   "cell_type": "markdown",
   "metadata": {},
   "source": [
    "## Training\n",
    "\n",
    "The training is done with `torch.optim.Adam` optimizer with learning rate 0.01. DQNN model architecture is [2, 3, 2]. The training is done for 100 epochs. The training fidelity is plotted for each epoch."
   ]
  },
  {
   "cell_type": "code",
   "execution_count": 4,
   "metadata": {},
   "outputs": [
    {
     "name": "stderr",
     "output_type": "stream",
     "text": [
      "  0%|          | 0/100 [00:00<?, ?it/s]/home/quic/anaconda/envs/qamp/lib/python3.9/site-packages/torch/cuda/__init__.py:83: UserWarning: CUDA initialization: The NVIDIA driver on your system is too old (found version 10010). Please update your GPU driver by downloading and installing a new version from the URL: http://www.nvidia.com/Download/index.aspx Alternatively, go to: https://pytorch.org to install a PyTorch version that has been compiled with your version of the CUDA driver. (Triggered internally at  /opt/conda/conda-bld/pytorch_1659484806139/work/c10/cuda/CUDAFunctions.cpp:109.)\n",
      "  return torch._C._cuda_getDeviceCount() > 0\n",
      "100%|██████████| 100/100 [31:29<00:00, 18.89s/it]\n"
     ]
    }
   ],
   "source": [
    "unitary = random_unitary(2**2)\n",
    "model = DQNN([2, 3, 2])\n",
    "unitaries = model.makeRandomUnitaries()\n",
    "trainingData = generate_random_training_data(10, 2)\n",
    "targetStates = generate_target_from_unitary(unitary, trainingData)\n",
    "\n",
    "\n",
    "optimizer = torch.optim.Adam(unitaries, lr=0.01)\n",
    "\n",
    "def closure():\n",
    "    optimizer.zero_grad()\n",
    "    outputs = model.forward(unitaries, trainingData)\n",
    "    loss = 1-cost(outputs, targetStates)\n",
    "    loss.backward()\n",
    "    return loss\n",
    "\n",
    "loss_list = []\n",
    "writer = SummaryWriter(log_dir='./runs/DQNN')\n",
    "for s in trange(100):\n",
    "    loss = optimizer.step(closure)\n",
    "    writer.add_scalar('Loss', loss.item(), s)\n",
    "    loss_list.append(loss.item())"
   ]
  },
  {
   "cell_type": "code",
   "execution_count": 5,
   "metadata": {},
   "outputs": [
    {
     "data": {
      "text/plain": [
       "Text(0, 0.5, 'Cost/Fidelity')"
      ]
     },
     "execution_count": 5,
     "metadata": {},
     "output_type": "execute_result"
    },
    {
     "data": {
      "image/png": "[encoded data removed]",
      "text/plain": [
       "<Figure size 640x480 with 1 Axes>"
      ]
     },
     "metadata": {},
     "output_type": "display_data"
    }
   ],
   "source": [
    "from matplotlib import pyplot as plt\n",
    "plt.plot(1-np.array(loss_list))\n",
    "plt.xlabel('Epoch')\n",
    "plt.ylabel('Cost/Fidelity')"
   ]
  },
  {
   "cell_type": "markdown",
   "metadata": {},
   "source": [
    "## Conclusion\n",
    "\n",
    "Although trained fidelity is very high(>99.99%), without backpropagation proposed in the [paper](https://www.nature.com/articles/s41467-020-14454-2), the convergence is not as goood as that in the paper. Compare results of <https://github.com/qigitphannover/DeepQuantumNeuralNetworks/blob/master/DQNN_basic.ipynb>"
   ]
  },
  {
   "cell_type": "markdown",
   "metadata": {},
   "source": [
    "## Version"
   ]
  },
  {
   "cell_type": "code",
   "execution_count": 7,
   "metadata": {},
   "outputs": [
    {
     "data": {
      "text/plain": [
       "'0.26.0'"
      ]
     },
     "execution_count": 7,
     "metadata": {},
     "output_type": "execute_result"
    }
   ],
   "source": [
    "qml.version()"
   ]
  },
  {
   "cell_type": "code",
   "execution_count": 8,
   "metadata": {},
   "outputs": [
    {
     "data": {
      "text/plain": [
       "'1.12.1'"
      ]
     },
     "execution_count": 8,
     "metadata": {},
     "output_type": "execute_result"
    }
   ],
   "source": [
    "torch.__version__"
   ]
  },
  {
   "cell_type": "code",
   "execution_count": 10,
   "metadata": {},
   "outputs": [
    {
     "data": {
      "text/html": [
       "<h3>Version Information</h3><table><tr><th>Qiskit Software</th><th>Version</th></tr><tr><td><code>qiskit-terra</code></td><td>0.21.2</td></tr><tr><td><code>qiskit-aer</code></td><td>0.11.0</td></tr><tr><td><code>qiskit-ibmq-provider</code></td><td>0.19.2</td></tr><tr><td><code>qiskit</code></td><td>0.38.0</td></tr><tr><th>System information</th></tr><tr><td>Python version</td><td>3.9.13</td></tr><tr><td>Python compiler</td><td>GCC 11.2.0</td></tr><tr><td>Python build</td><td>main, Aug 25 2022 23:26:10</td></tr><tr><td>OS</td><td>Linux</td></tr><tr><td>CPUs</td><td>8</td></tr><tr><td>Memory (Gb)</td><td>31.31374740600586</td></tr><tr><td colspan='2'>Sat Oct 01 07:17:57 2022 KST</td></tr></table>"
      ],
      "text/plain": [
       "<IPython.core.display.HTML object>"
      ]
     },
     "metadata": {},
     "output_type": "display_data"
    }
   ],
   "source": [
    "import qiskit.tools.jupyter\n",
    "%qiskit_version_table"
   ]
  },
  {
   "cell_type": "code",
   "execution_count": null,
   "metadata": {},
   "outputs": [],
   "source": []
  }
 ],
 "metadata": {
  "kernelspec": {
   "display_name": "Python 3.9.13 ('qamp')",
   "language": "python",
   "name": "python3"
  },
  "language_info": {
   "codemirror_mode": {
    "name": "ipython",
    "version": 3
   },
   "file_extension": ".py",
   "mimetype": "text/x-python",
   "name": "python",
   "nbconvert_exporter": "python",
   "pygments_lexer": "ipython3",
   "version": "3.9.13"
  },
  "orig_nbformat": 4,
  "vscode": {
   "interpreter": {
    "hash": "b2c9f99578d4763fad6ea324f689ecb983a0435e03f7bfb4f236675bf544ca8c"
   }
  }
 },
 "nbformat": 4,
 "nbformat_minor": 2
}
